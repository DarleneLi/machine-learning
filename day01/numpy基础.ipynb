{
 "cells": [
  {
   "cell_type": "code",
   "execution_count": 2,
   "metadata": {},
   "outputs": [],
   "source": [
    "import numpy as np\n",
    "import pandas as pd"
   ]
  },
  {
   "cell_type": "code",
   "execution_count": 3,
   "metadata": {},
   "outputs": [
    {
     "name": "stdout",
     "output_type": "stream",
     "text": [
      "[[1 2 3]\n",
      " [2 3 4]]\n",
      "number of dim: 2\n",
      "shape: (2, 3)\n",
      "size: 6\n"
     ]
    }
   ],
   "source": [
    "# 1.查属性\n",
    "arr=np.array([[1,2,3],\n",
    "              [2,3,4]])\n",
    "print(arr)\n",
    "print('number of dim:',arr.ndim)\n",
    "print('shape:',arr.shape)\n",
    "print('size:',arr.size)"
   ]
  },
  {
   "cell_type": "code",
   "execution_count": 4,
   "metadata": {},
   "outputs": [
    {
     "name": "stdout",
     "output_type": "stream",
     "text": [
      "float32\n"
     ]
    }
   ],
   "source": [
    "a=np.array([2,23,4],dtype=np.float32)\n",
    "print(a.dtype)"
   ]
  },
  {
   "cell_type": "code",
   "execution_count": 9,
   "metadata": {},
   "outputs": [
    {
     "data": {
      "text/plain": [
       "array([[0., 0., 0., 0.],\n",
       "       [0., 0., 0., 0.],\n",
       "       [0., 0., 0., 0.]])"
      ]
     },
     "execution_count": 9,
     "metadata": {},
     "output_type": "execute_result"
    }
   ],
   "source": [
    "# 2.创建\n",
    "np.zeros((3,4))"
   ]
  },
  {
   "cell_type": "code",
   "execution_count": 7,
   "metadata": {},
   "outputs": [
    {
     "data": {
      "text/plain": [
       "array([[1., 1., 1., 1.],\n",
       "       [1., 1., 1., 1.],\n",
       "       [1., 1., 1., 1.]])"
      ]
     },
     "execution_count": 7,
     "metadata": {},
     "output_type": "execute_result"
    }
   ],
   "source": [
    "np.ones((3,4))"
   ]
  },
  {
   "cell_type": "code",
   "execution_count": 8,
   "metadata": {},
   "outputs": [
    {
     "data": {
      "text/plain": [
       "array([[9.52773673e-312, 9.52755979e-312],\n",
       "       [9.52755982e-312, 9.52755983e-312]])"
      ]
     },
     "execution_count": 8,
     "metadata": {},
     "output_type": "execute_result"
    }
   ],
   "source": [
    "np.empty((2,2))"
   ]
  },
  {
   "cell_type": "code",
   "execution_count": 26,
   "metadata": {},
   "outputs": [
    {
     "data": {
      "text/plain": [
       "array([[0.52585504, 0.59959825, 0.94037316, 0.59870569],\n",
       "       [0.01924337, 0.4443937 , 0.44267716, 0.28195061]])"
      ]
     },
     "execution_count": 26,
     "metadata": {},
     "output_type": "execute_result"
    }
   ],
   "source": [
    "np.random.random((2,4))"
   ]
  },
  {
   "cell_type": "code",
   "execution_count": 10,
   "metadata": {},
   "outputs": [
    {
     "data": {
      "text/plain": [
       "array([10, 12, 14, 16, 18])"
      ]
     },
     "execution_count": 10,
     "metadata": {},
     "output_type": "execute_result"
    }
   ],
   "source": [
    "np.arange(10,20,2)"
   ]
  },
  {
   "cell_type": "code",
   "execution_count": 11,
   "metadata": {},
   "outputs": [
    {
     "data": {
      "text/plain": [
       "array([ 0,  1,  2,  3,  4,  5,  6,  7,  8,  9, 10, 11])"
      ]
     },
     "execution_count": 11,
     "metadata": {},
     "output_type": "execute_result"
    }
   ],
   "source": [
    "np.arange(12)"
   ]
  },
  {
   "cell_type": "code",
   "execution_count": 15,
   "metadata": {},
   "outputs": [
    {
     "data": {
      "text/plain": [
       "array([[ 0,  1,  2,  3],\n",
       "       [ 4,  5,  6,  7],\n",
       "       [ 8,  9, 10, 11]])"
      ]
     },
     "execution_count": 15,
     "metadata": {},
     "output_type": "execute_result"
    }
   ],
   "source": [
    "np.arange(12).reshape((3,4))"
   ]
  },
  {
   "cell_type": "code",
   "execution_count": 17,
   "metadata": {},
   "outputs": [
    {
     "data": {
      "text/plain": [
       "array([ 1.  ,  3.25,  5.5 ,  7.75, 10.  ])"
      ]
     },
     "execution_count": 17,
     "metadata": {},
     "output_type": "execute_result"
    }
   ],
   "source": [
    "np.linspace(1,10,5)"
   ]
  },
  {
   "cell_type": "code",
   "execution_count": 18,
   "metadata": {},
   "outputs": [
    {
     "name": "stdout",
     "output_type": "stream",
     "text": [
      "[        inf 20.         15.         13.33333333]\n"
     ]
    },
    {
     "name": "stderr",
     "output_type": "stream",
     "text": [
      "C:\\Users\\V9876\\Anaconda3\\lib\\site-packages\\ipykernel_launcher.py:4: RuntimeWarning: divide by zero encountered in true_divide\n",
      "  after removing the cwd from sys.path.\n"
     ]
    }
   ],
   "source": [
    "# 3 数、矩阵的计算/  +-*/  \n",
    "#               /  sin cos tan\n",
    "#               /  < >  \n",
    "#               /  max min sum \n",
    "#               / 计算索引\n",
    "#               /mean median cumsum diff nonzero sort clip transpose\n",
    "a=np.array([10,20,30,40])\n",
    "b=np.arange(4)\n",
    "c=a/b\n",
    "print(c)"
   ]
  },
  {
   "cell_type": "code",
   "execution_count": 21,
   "metadata": {},
   "outputs": [
    {
     "data": {
      "text/plain": [
       "1.0"
      ]
     },
     "execution_count": 21,
     "metadata": {},
     "output_type": "execute_result"
    }
   ],
   "source": [
    "np.cos(0)"
   ]
  },
  {
   "cell_type": "code",
   "execution_count": 22,
   "metadata": {},
   "outputs": [
    {
     "name": "stdout",
     "output_type": "stream",
     "text": [
      "[False False False  True]\n"
     ]
    }
   ],
   "source": [
    "print(a>30)"
   ]
  },
  {
   "cell_type": "code",
   "execution_count": 24,
   "metadata": {},
   "outputs": [
    {
     "name": "stdout",
     "output_type": "stream",
     "text": [
      "矩阵乘法：\n",
      " [[2 4]\n",
      " [2 3]]\n",
      "数的乘法：\n",
      " [[0 1]\n",
      " [0 3]]\n"
     ]
    }
   ],
   "source": [
    "a=np.array([[1,1],\n",
    "            [0,1]])\n",
    "b=np.arange(4).reshape((2,2))\n",
    "c=np.dot(a,b)\n",
    "d=a*b\n",
    "print('矩阵乘法：\\n',c)\n",
    "print('数的乘法：\\n',d)"
   ]
  },
  {
   "cell_type": "code",
   "execution_count": 28,
   "metadata": {},
   "outputs": [
    {
     "name": "stdout",
     "output_type": "stream",
     "text": [
      "[[0.26737975 0.54270119 0.65103793]\n",
      " [0.07889078 0.25179026 0.26240155]]\n",
      "[1.46111887 0.5930826 ]\n",
      "[0.26737975 0.54270119 0.65103793]\n",
      "[0.07889078 0.25179026 0.26240155]\n"
     ]
    }
   ],
   "source": [
    "a=np.random.random((2,3))\n",
    "print(a)\n",
    "print(np.sum(a,axis=1))\n",
    "print(np.max(a,axis=0))\n",
    "print(np.min(a,axis=0))"
   ]
  },
  {
   "cell_type": "code",
   "execution_count": 41,
   "metadata": {},
   "outputs": [
    {
     "name": "stdout",
     "output_type": "stream",
     "text": [
      "[[10 11 12 13]\n",
      " [14 15 16 17]\n",
      " [18 19 20 21]]\n",
      "[0 0 0 0]\n",
      "11\n",
      "mean: 15.5\n",
      "median: 15.5\n",
      "cumsum: [ 10  21  33  46  60  75  91 108 126 145 165 186]\n",
      "diff:\n",
      " [[1 1 1]\n",
      " [1 1 1]\n",
      " [1 1 1]]\n",
      "nonzero: (array([0, 0, 0, 0, 1, 1, 1, 1, 2, 2, 2, 2], dtype=int64), array([0, 1, 2, 3, 0, 1, 2, 3, 0, 1, 2, 3], dtype=int64))\n"
     ]
    }
   ],
   "source": [
    "A=np.arange(10,22).reshape((3,4))\n",
    "print(A)\n",
    "print(np.argmin(A,axis=0))\n",
    "print(np.argmax(A))\n",
    "print('mean:',np.mean(A))\n",
    "print('median:',np.median(A))\n",
    "print('cumsum:',np.cumsum(A))\n",
    "print('diff:\\n',np.diff(A))\n",
    "print('nonzero:',np.nonzero(A))"
   ]
  },
  {
   "cell_type": "code",
   "execution_count": 47,
   "metadata": {},
   "outputs": [
    {
     "name": "stdout",
     "output_type": "stream",
     "text": [
      "B:\n",
      " [[22 21 20 19]\n",
      " [18 17 16 15]\n",
      " [14 13 12 11]]\n",
      "sortB:\n",
      " [[19 20 21 22]\n",
      " [15 16 17 18]\n",
      " [11 12 13 14]]\n",
      "Btranspose:\n",
      " [[22 18 14]\n",
      " [21 17 13]\n",
      " [20 16 12]\n",
      " [19 15 11]]\n",
      "Bclip:\n",
      " [[19 19 19 19]\n",
      " [18 17 16 15]\n",
      " [15 15 15 15]]\n"
     ]
    }
   ],
   "source": [
    "B=np.arange(22,10,-1).reshape((3,4))\n",
    "print('B:\\n',B)\n",
    "print('sortB:\\n',np.sort(B))\n",
    "print('Btranspose:\\n',np.transpose(B))\n",
    "print('Bclip:\\n',np.clip(B,15,19))"
   ]
  },
  {
   "cell_type": "code",
   "execution_count": 50,
   "metadata": {},
   "outputs": [
    {
     "name": "stdout",
     "output_type": "stream",
     "text": [
      "22\n",
      "21\n",
      "20\n",
      "19\n",
      "18\n",
      "17\n",
      "16\n",
      "15\n",
      "14\n",
      "13\n",
      "12\n",
      "11\n"
     ]
    }
   ],
   "source": [
    "for i in B.flat:\n",
    "    print(i)"
   ]
  },
  {
   "cell_type": "code",
   "execution_count": 53,
   "metadata": {},
   "outputs": [
    {
     "name": "stdout",
     "output_type": "stream",
     "text": [
      "[[1 1 1]\n",
      " [2 2 2]]\n",
      "[1 1 1 2 2 2]\n"
     ]
    }
   ],
   "source": [
    "# 4.合并\n",
    "\n",
    "a=np.array([1,1,1])\n",
    "b=np.array([2,2,2])\n",
    "c=np.vstack((a,b))\n",
    "d=np.hstack((a,b))\n",
    "print(c)\n",
    "print(d)"
   ]
  },
  {
   "cell_type": "code",
   "execution_count": 55,
   "metadata": {},
   "outputs": [
    {
     "name": "stdout",
     "output_type": "stream",
     "text": [
      "[[1]\n",
      " [1]\n",
      " [1]]\n"
     ]
    }
   ],
   "source": [
    "print(a[:,np.newaxis])"
   ]
  },
  {
   "cell_type": "code",
   "execution_count": 59,
   "metadata": {},
   "outputs": [
    {
     "name": "stdout",
     "output_type": "stream",
     "text": [
      "[[10 11 12 13]\n",
      " [14 15 16 17]\n",
      " [18 19 20 21]]\n",
      "[array([[10, 11, 12, 13]]), array([[14, 15, 16, 17]]), array([[18, 19, 20, 21]])]\n",
      "[array([[10, 11, 12, 13]]), array([[14, 15, 16, 17]]), array([[18, 19, 20, 21]])]\n"
     ]
    }
   ],
   "source": [
    "# 5.分割\n",
    "A=np.arange(10,22).reshape((3,4))\n",
    "print(A)\n",
    "#等量分割\n",
    "# 不等量分割\n",
    "print(np.split(A,3,axis=0))\n",
    "print(np.array_split(A,3,axis=0))"
   ]
  },
  {
   "cell_type": "code",
   "execution_count": 63,
   "metadata": {},
   "outputs": [
    {
     "name": "stdout",
     "output_type": "stream",
     "text": [
      "[[10 11 12 13]\n",
      " [14 15 16 17]\n",
      " [18 19 20 21]]\n",
      "[array([[10, 11, 12, 13]]), array([[14, 15, 16, 17]]), array([[18, 19, 20, 21]])]\n",
      "[array([[10, 11],\n",
      "       [14, 15],\n",
      "       [18, 19]]), array([[12, 13],\n",
      "       [16, 17],\n",
      "       [20, 21]])]\n"
     ]
    }
   ],
   "source": [
    "print(A)\n",
    "print(np.vsplit(A,3))\n",
    "print(np.hsplit(A,2))"
   ]
  },
  {
   "cell_type": "code",
   "execution_count": 65,
   "metadata": {},
   "outputs": [
    {
     "name": "stdout",
     "output_type": "stream",
     "text": [
      "[11, 2, 3, 4]\n"
     ]
    }
   ],
   "source": [
    "# 6.赋值\n",
    "a=[1,2,3,4]\n",
    "b=a\n",
    "a[0]=11\n",
    "print(b)"
   ]
  },
  {
   "cell_type": "code",
   "execution_count": 68,
   "metadata": {},
   "outputs": [
    {
     "name": "stdout",
     "output_type": "stream",
     "text": [
      "[1, 2, 3, 4]\n"
     ]
    }
   ],
   "source": [
    "a=[1,2,3,4]\n",
    "b=a.copy()\n",
    "a[0]=11\n",
    "print(b)"
   ]
  },
  {
   "cell_type": "code",
   "execution_count": null,
   "metadata": {},
   "outputs": [],
   "source": []
  }
 ],
 "metadata": {
  "kernelspec": {
   "display_name": "Python 3",
   "language": "python",
   "name": "python3"
  },
  "language_info": {
   "codemirror_mode": {
    "name": "ipython",
    "version": 3
   },
   "file_extension": ".py",
   "mimetype": "text/x-python",
   "name": "python",
   "nbconvert_exporter": "python",
   "pygments_lexer": "ipython3",
   "version": "3.6.5"
  }
 },
 "nbformat": 4,
 "nbformat_minor": 2
}
